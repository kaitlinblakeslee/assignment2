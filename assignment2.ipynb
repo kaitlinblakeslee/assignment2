{
  "cells": [
    {
      "cell_type": "markdown",
      "id": "13ad028b-72b7-43ed-aa78-96fd4e518040",
      "metadata": {
        "id": "13ad028b-72b7-43ed-aa78-96fd4e518040"
      },
      "source": [
        "# Assignment: Data Wrangling and Exploratory Data Analysis\n",
        "## Do Q1 and Q2, and one other question.\n",
        "`! git clone https://www.github.com/DS3001/assignment2`"
      ]
    },
    {
      "cell_type": "code",
      "source": [
        "! git clone https://www.github.com/kaitlinblakeslee/assignment2"
      ],
      "metadata": {
        "id": "VRH_XXl7QstB",
        "outputId": "7c764a9f-362d-4c31-9d12-4f90e9c18c92",
        "colab": {
          "base_uri": "https://localhost:8080/"
        }
      },
      "id": "VRH_XXl7QstB",
      "execution_count": 1,
      "outputs": [
        {
          "output_type": "stream",
          "name": "stdout",
          "text": [
            "Cloning into 'assignment2'...\n",
            "warning: redirecting to https://github.com/kaitlinblakeslee/assignment2.git/\n",
            "remote: Enumerating objects: 39, done.\u001b[K\n",
            "remote: Counting objects: 100% (39/39), done.\u001b[K\n",
            "remote: Compressing objects: 100% (33/33), done.\u001b[K\n",
            "remote: Total 39 (delta 10), reused 31 (delta 6), pack-reused 0\u001b[K\n",
            "Receiving objects: 100% (39/39), 5.48 MiB | 20.39 MiB/s, done.\n",
            "Resolving deltas: 100% (10/10), done.\n"
          ]
        }
      ]
    },
    {
      "cell_type": "code",
      "source": [
        "! git clone https://www.github.com/kaitlinblakeslee/assignment2\n",
        "import pandas as pd\n",
        "import seaborn as sns\n",
        "import numpy as np\n",
        "df = pd.read_csv('./assignment2/data/airbnb_hw.csv')\n",
        "print(df.head())\n",
        "print(df.dtypes)\n",
        "vars = ['Beds', 'Property Types']\n",
        "df['Beds'].describe()\n",
        "\n",
        "df['Beds_nan'] = df['Beds'].isnull()\n",
        "\n",
        "pd.crosstab(df['Beds_nan'],df['Property Type'])\n",
        "\n",
        "gdf = df.loc[df['Beds_nan'] == 0, :]\n",
        "\n",
        "print(gdf.shape)\n",
        "print(gdf['Beds'].describe())\n",
        "\n",
        "gdf = gdf.loc[gdf['Property Type'].isnull() == 0, :]\n",
        "\n",
        "\n",
        "# gdf is clean\n",
        "\n",
        "y = gdf['Price']\n",
        "x = gdf.loc[:, ['Beds', 'Property Type']]\n",
        "\n",
        "\n",
        "\n"
      ],
      "metadata": {
        "id": "7QPw9GU5AY0Q",
        "outputId": "ea335fe5-4ccd-4304-c951-895004d15b8e",
        "colab": {
          "base_uri": "https://localhost:8080/"
        }
      },
      "id": "7QPw9GU5AY0Q",
      "execution_count": 18,
      "outputs": [
        {
          "output_type": "stream",
          "name": "stdout",
          "text": [
            "fatal: destination path 'assignment2' already exists and is not an empty directory.\n",
            "    Host Id Host Since                                Name Neighbourhood   \\\n",
            "0   5162530        NaN     1 Bedroom in Prime Williamsburg       Brooklyn   \n",
            "1  33134899        NaN     Sunny, Private room in Bushwick       Brooklyn   \n",
            "2  39608626        NaN                Sunny Room in Harlem      Manhattan   \n",
            "3       500  6/26/2008  Gorgeous 1 BR with Private Balcony      Manhattan   \n",
            "4       500  6/26/2008            Trendy Times Square Loft      Manhattan   \n",
            "\n",
            "  Property Type  Review Scores Rating (bin)        Room Type  Zipcode  Beds  \\\n",
            "0     Apartment                         NaN  Entire home/apt  11249.0   1.0   \n",
            "1     Apartment                         NaN     Private room  11206.0   1.0   \n",
            "2     Apartment                         NaN     Private room  10032.0   1.0   \n",
            "3     Apartment                         NaN  Entire home/apt  10024.0   3.0   \n",
            "4     Apartment                        95.0     Private room  10036.0   3.0   \n",
            "\n",
            "   Number of Records  Number Of Reviews Price  Review Scores Rating  \n",
            "0                  1                  0   145                   NaN  \n",
            "1                  1                  1    37                   NaN  \n",
            "2                  1                  1    28                   NaN  \n",
            "3                  1                  0   199                   NaN  \n",
            "4                  1                 39   549                  96.0  \n",
            "Host Id                         int64\n",
            "Host Since                     object\n",
            "Name                           object\n",
            "Neighbourhood                  object\n",
            "Property Type                  object\n",
            "Review Scores Rating (bin)    float64\n",
            "Room Type                      object\n",
            "Zipcode                       float64\n",
            "Beds                          float64\n",
            "Number of Records               int64\n",
            "Number Of Reviews               int64\n",
            "Price                          object\n",
            "Review Scores Rating          float64\n",
            "dtype: object\n",
            "(30393, 14)\n",
            "count    30393.000000\n",
            "mean         1.530089\n",
            "std          1.015359\n",
            "min          0.000000\n",
            "25%          1.000000\n",
            "50%          1.000000\n",
            "75%          2.000000\n",
            "max         16.000000\n",
            "Name: Beds, dtype: float64\n"
          ]
        }
      ]
    },
    {
      "cell_type": "markdown",
      "id": "5735a4d4-8be8-433a-a351-70eb8002e632",
      "metadata": {
        "id": "5735a4d4-8be8-433a-a351-70eb8002e632"
      },
      "source": [
        "**Q1.** Open the \"tidy_data.pdf\" document in the repo, which is a paper called Tidy Data by Hadley Wickham.\n",
        "\n",
        "  1. Read the abstract. What is this paper about?\n",
        "  2. Read the introduction. What is the \"tidy data standard\" intended to accomplish?\n",
        "  3. Read the intro to section 2. What does this sentence mean: \"Like families, tidy datasets are all alike but every messy dataset is messy in its own way.\" What does this sentence mean: \"For a given dataset, it’s usually easy to figure out what are observations and what are variables, but it is surprisingly difficult to precisely define variables and observations in general.\"\n",
        "  4. Read Section 2.2. How does Wickham define values, variables, and observations?\n",
        "  5. How is \"Tidy Data\" defined in section 2.3?\n",
        "  6. Read the intro to Section 3 and Section 3.1. What are the 5 most common problems with messy datasets? Why are the data in Table 4 messy? What is \"melting\" a dataset?\n",
        "  7. Why, specifically, is table 11 messy but table 12 tidy and \"molten\"?\n",
        "  8. Read Section 6. What is the \"chicken-and-egg\" problem with focusing on tidy data? What does Wickham hope happens in the future with further work on the subject of data wrangling?"
      ]
    },
    {
      "cell_type": "markdown",
      "source": [
        "1.1: This paper is about 'tidy' data that are easy to clean and manipulate because of their organized structure with each variable being a column, each row being a variable, and each observational unit as a table. These data sets are easier to understand as well.\n",
        "\n",
        "1.2: The 'tidy data standard' has been designed to make initial data cleaning simpler by instructing early analysis and exploration and by simplifying the data analysis tools that work well together so the coder can focus on the 'interesting' domain problem quicker.\n",
        "\n",
        "1.3: The sentence comparing datasets to families is implying that, unlike tidy datasets, there is not a standardized way to be a 'messy' dataset just as there are many different ways a family can be messy or unhappy. The sentence about defining variables and observations means that in general there is a lot of overlap between what can be a variable and what can be an observation. In the paper, they use the example that height and weight are normally thought of as variables but change weight to width and now it may seem as if height and width are dimensions from the same variable. This illustrates the point that there can be ambiguity within a dataset.\n",
        "\n",
        "1.4: Wickham states that values can either be quantitative (numbers) or qualitative (strings) that belong to a variable and an observation. Variables are values that measure an attribute across a set of units. In contrast, observations contain all values that measure the same unit across attributes.\n",
        "\n",
        "1.5: Section 2.3 outlines a set of standards for 'tidy data' where each variable must form a column, each observation forms a row, and each type of observational unit forms a table.\n",
        "\n",
        "1.6: The 5 most common problems with messy datasets are columns listed as values not variables, more than one variable stored in one column, variables stored in both rows and columns, different types of observational units listed in the same table, and a single observational unit stored in multiple tables. The data in table 4 is considered 'messy' because variables form both the rows and the columns, and the column headers are values and not variable names. Melting a dataset is converting columns into rows to make a molten dataset so that each column represents a variable and each row signifies an observation (tidy).\n",
        "\n",
        "1.7: Table 11 is messy because variables are stored in both rows and columns. Additionally, it also has missing values. Table 12b, on the other hand, is tidy because each column represents its own variable, and each row is a separate observation (the data has been stacked or melted).\n",
        "\n",
        "1.8: The 'chicken-and-egg' problem with tidy data is that the data is only as useful as the tidy tools that work with it that are intrinsically linked to the data itself. In this way, it can be less efficient to independently alter the data structure or tools. In the future, Wickham hopes we will build upon this framework of tidy data to make it even easier to achieve so data can be analyzed more efficiently. Specifically, Wickham wants to design better tools based on human factors and the cognitive side of analysis. Perhaps the future of data wrangling is using these tidy tools to override or ignore the original data representation and choose its own tidy format to optimize performance.\n"
      ],
      "metadata": {
        "id": "6vR6v8EiBEIC"
      },
      "id": "6vR6v8EiBEIC"
    },
    {
      "cell_type": "markdown",
      "id": "da879ea7-8aac-48a3-b6c2-daea56d2e072",
      "metadata": {
        "id": "da879ea7-8aac-48a3-b6c2-daea56d2e072"
      },
      "source": [
        "**Q2.** This question provides some practice cleaning variables which have common problems.\n",
        "1. Numeric variable: For `./data/airbnb_hw.csv`, clean the `Price` variable as well as you can, and explain the choices you make. How many missing values do you end up with? (Hint: What happens to the formatting when a price goes over 999 dollars, say from 675 to 1,112?)\n",
        "2. Categorical variable: For the `./data/sharks.csv` data covered in the lecture, clean the \"Type\" variable as well as you can, and explain the choices you make.\n",
        "3. Dummy variable: For the pretrial data covered in the lecture, clean the `WhetherDefendantWasReleasedPretrial` variable as well as you can, and, in particular, replace missing values with `np.nan`.\n",
        "4. Missing values, not at random: For the pretrial data covered in the lecture, clean the `ImposedSentenceAllChargeInContactEvent` variable as well as you can, and explain the choices you make. (Hint: Look at the `SentenceTypeAllChargesAtConvictionInContactEvent` variable.)"
      ]
    },
    {
      "cell_type": "code",
      "source": [
        "#2.1\n",
        "import numpy as np\n",
        "import pandas as pd\n",
        "adf = pd.read_csv('./assignment2/data/airbnb_hw.csv', low_memory = False) #read in airbnb file as csv\n",
        "print(adf.head()) #view general overview of shape of data and variables (rows and columns)\n",
        "var1 = 'Price' #rename variable of interest (the price in this case) so it can be cleaned\n",
        "#print(adf[var1].unique(),'\\n') #I wanted to look at what the data looked like for Price\n",
        "#print(adf[var1].value_counts(), '\\n') #I wanted to see the frequency of each price/data point\n",
        "print(adf.dtypes) #print the data types for each variable - price is 'object'\n",
        "adf[var1] = adf[var1].str.replace(',', '') #price is string that I want to change into a numeric variable so first I must get rid of separator ','\n",
        "print(adf[var1].unique(),'\\n') #confirm that ',' is gone\n",
        "print('Before coercion: \\n', adf[var1].describe(),'\\n') #data type is still object here\n",
        "adf[var1] = pd.to_numeric(adf[var1], errors='coerce') #coerce data from object to float (numeric) data type\n",
        "print('After coercion: \\n', adf[var1].describe(),'\\n') #confirm data type is float\n",
        "adf[var1+'_nan'] = adf[var1].isnull() # dummy variable for any missing data points (nan)\n",
        "print('Number of Missings: \\n', sum(adf[var1+'_nan']),'\\n') #show the number of Missing Data points (there are none)\n",
        "adf.to_csv('new_airbnbclean.csv') #save cleaned data as new csv\n",
        "\n"
      ],
      "metadata": {
        "id": "q2GhY-BmQ14C",
        "outputId": "e50f1ed2-5c35-45bb-e14a-64f6f02e0b56",
        "colab": {
          "base_uri": "https://localhost:8080/"
        }
      },
      "id": "q2GhY-BmQ14C",
      "execution_count": null,
      "outputs": [
        {
          "output_type": "stream",
          "name": "stdout",
          "text": [
            "    Host Id Host Since                                Name Neighbourhood   \\\n",
            "0   5162530        NaN     1 Bedroom in Prime Williamsburg       Brooklyn   \n",
            "1  33134899        NaN     Sunny, Private room in Bushwick       Brooklyn   \n",
            "2  39608626        NaN                Sunny Room in Harlem      Manhattan   \n",
            "3       500  6/26/2008  Gorgeous 1 BR with Private Balcony      Manhattan   \n",
            "4       500  6/26/2008            Trendy Times Square Loft      Manhattan   \n",
            "\n",
            "  Property Type  Review Scores Rating (bin)        Room Type  Zipcode  Beds  \\\n",
            "0     Apartment                         NaN  Entire home/apt  11249.0   1.0   \n",
            "1     Apartment                         NaN     Private room  11206.0   1.0   \n",
            "2     Apartment                         NaN     Private room  10032.0   1.0   \n",
            "3     Apartment                         NaN  Entire home/apt  10024.0   3.0   \n",
            "4     Apartment                        95.0     Private room  10036.0   3.0   \n",
            "\n",
            "   Number of Records  Number Of Reviews Price  Review Scores Rating  \n",
            "0                  1                  0   145                   NaN  \n",
            "1                  1                  1    37                   NaN  \n",
            "2                  1                  1    28                   NaN  \n",
            "3                  1                  0   199                   NaN  \n",
            "4                  1                 39   549                  96.0  \n",
            "150      1481\n",
            "100      1207\n",
            "200      1059\n",
            "125       889\n",
            "75        873\n",
            "         ... \n",
            "840         1\n",
            "306         1\n",
            "2,695       1\n",
            "2,520       1\n",
            "291         1\n",
            "Name: Price, Length: 511, dtype: int64 \n",
            "\n",
            "Host Id                         int64\n",
            "Host Since                     object\n",
            "Name                           object\n",
            "Neighbourhood                  object\n",
            "Property Type                  object\n",
            "Review Scores Rating (bin)    float64\n",
            "Room Type                      object\n",
            "Zipcode                       float64\n",
            "Beds                          float64\n",
            "Number of Records               int64\n",
            "Number Of Reviews               int64\n",
            "Price                          object\n",
            "Review Scores Rating          float64\n",
            "dtype: object\n",
            "['145' '37' '28' '199' '549' '149' '250' '90' '270' '290' '170' '59' '49'\n",
            " '68' '285' '75' '100' '150' '700' '125' '175' '40' '89' '95' '99' '499'\n",
            " '120' '79' '110' '180' '143' '230' '350' '135' '85' '60' '70' '55' '44'\n",
            " '200' '165' '115' '74' '84' '129' '50' '185' '80' '190' '140' '45' '65'\n",
            " '225' '600' '109' '1990' '73' '240' '72' '105' '155' '160' '42' '132'\n",
            " '117' '295' '280' '159' '107' '69' '239' '220' '399' '130' '375' '585'\n",
            " '275' '139' '260' '35' '133' '300' '289' '179' '98' '195' '29' '27' '39'\n",
            " '249' '192' '142' '169' '1000' '131' '138' '113' '122' '329' '101' '475'\n",
            " '238' '272' '308' '126' '235' '315' '248' '128' '56' '207' '450' '215'\n",
            " '210' '385' '445' '136' '247' '118' '77' '76' '92' '198' '205' '299'\n",
            " '222' '245' '104' '153' '349' '114' '320' '292' '226' '420' '500' '325'\n",
            " '307' '78' '265' '108' '123' '189' '32' '58' '86' '219' '800' '335' '63'\n",
            " '229' '425' '67' '87' '1200' '158' '650' '234' '310' '695' '400' '166'\n",
            " '119' '62' '168' '340' '479' '43' '395' '144' '52' '47' '529' '187' '209'\n",
            " '233' '82' '269' '163' '172' '305' '156' '550' '435' '137' '124' '48'\n",
            " '279' '330' '5000' '134' '378' '97' '277' '64' '193' '147' '186' '264'\n",
            " '30' '3000' '112' '94' '379' '57' '415' '236' '410' '214' '88' '66' '71'\n",
            " '171' '157' '545' '1500' '83' '96' '1800' '81' '188' '380' '255' '505'\n",
            " '54' '33' '174' '93' '740' '640' '1300' '440' '599' '357' '1239' '495'\n",
            " '127' '5999' '178' '348' '152' '242' '183' '253' '750' '259' '365' '273'\n",
            " '197' '397' '103' '389' '355' '559' '38' '203' '999' '141' '162' '333'\n",
            " '698' '46' '360' '895' '10' '41' '206' '281' '449' '388' '212' '102'\n",
            " '201' '2750' '4750' '432' '675' '167' '390' '298' '339' '194' '302' '211'\n",
            " '595' '191' '53' '361' '480' '8000' '4500' '459' '997' '345' '216' '218'\n",
            " '111' '735' '276' '91' '490' '850' '398' '36' '775' '267' '625' '336'\n",
            " '2500' '176' '725' '3750' '469' '106' '460' '287' '575' '227' '263' '25'\n",
            " '228' '208' '177' '880' '148' '116' '685' '470' '217' '164' '61' '645'\n",
            " '699' '405' '252' '319' '268' '419' '343' '525' '311' '840' '154' '294'\n",
            " '950' '409' '184' '257' '204' '241' '2000' '412' '121' '288' '196' '900'\n",
            " '647' '524' '1750' '309' '510' '1495' '1700' '799' '383' '372' '492'\n",
            " '327' '1999' '656' '224' '173' '875' '1170' '795' '690' '146' '465'\n",
            " '1100' '151' '274' '429' '825' '282' '256' '1111' '620' '271' '161' '51'\n",
            " '855' '579' '1174' '430' '20' '899' '649' '485' '181' '455' '4000' '243'\n",
            " '342' '590' '560' '374' '437' '232' '359' '985' '31' '244' '254' '723'\n",
            " '237' '428' '370' '34' '1400' '580' '2520' '221' '749' '1600' '2695'\n",
            " '306' '202' '680' '570' '520' '223' '2295' '213' '1065' '346' '24' '286'\n",
            " '296' '266' '26' '995' '1368' '393' '182' '635' '258' '780' '589' '347'\n",
            " '1250' '1350' '446' '3200' '1050' '1650' '1550' '975' '323' '6500' '2499'\n",
            " '1850' '2250' '715' '461' '540' '356' '439' '384' '569' '1900' '22' '785'\n",
            " '626' '830' '318' '444' '321' '401' '1499' '888' '369' '770' '386' '366'\n",
            " '344' '630' '313' '597' '262' '509' '10000' '278' '312' '789' '1195'\n",
            " '422' '21' '765' '3500' '945' '326' '3100' '2486' '3390' '1356' '2599'\n",
            " '472' '454' '328' '396' '291'] \n",
            "\n",
            "Before coercion: \n",
            " count     30478\n",
            "unique      511\n",
            "top         150\n",
            "freq       1481\n",
            "Name: Price, dtype: object \n",
            "\n",
            "After coercion: \n",
            " count    30478.000000\n",
            "mean       163.589737\n",
            "std        197.785454\n",
            "min         10.000000\n",
            "25%         80.000000\n",
            "50%        125.000000\n",
            "75%        195.000000\n",
            "max      10000.000000\n",
            "Name: Price, dtype: float64 \n",
            "\n",
            "Total Missings: \n",
            " 0 \n",
            "\n"
          ]
        }
      ]
    },
    {
      "cell_type": "code",
      "source": [
        "#2.2\n",
        "import numpy as np\n",
        "import pandas as pd\n",
        "sdf = pd.read_csv('./assignment2/data/sharks.csv', low_memory = False)\n",
        "print(sdf.head()) #general overview of data\n",
        "print(sdf.dtypes) #show all the different types of data - Type is an object\n",
        "var2 = 'Type' #rename variable of interest\n",
        "#print(sdf[var2].unique()) #look at all of the unique values for Type variable\n",
        "sdf[var2] = sdf[var2].replace(np.nan, ' ') #replace nan with missing data\n",
        "sdf[var2] = sdf[var2].replace(('Questionable', 'Unconfirmed', 'Unverified', 'Invalid', 'Under investigation', 'Boatomg', 'Sea Disaster', 'Boat', 'Watercraft', 'Boating', ' '), 'Unknown') #replace anything that is not 'Provoked' or 'Unprovoked' with 'Unknown' because I want type to simply determine whether or not the attack was provoked or not provoked (if this can be determined)\n",
        "print(sdf[var2].unique()) #confirm that there are only three possible outcomes for Type\n",
        "sdf.to_csv('cleanshark.csv') #save cleaned data as new csv"
      ],
      "metadata": {
        "id": "RLumkD6dk2vP",
        "outputId": "e4f5e1ee-422a-4eb1-bf50-87d081d1d479",
        "colab": {
          "base_uri": "https://localhost:8080/"
        }
      },
      "id": "RLumkD6dk2vP",
      "execution_count": null,
      "outputs": [
        {
          "output_type": "stream",
          "name": "stdout",
          "text": [
            "   index   Case Number                  Date    Year        Type      Country  \\\n",
            "0      0    2020.02.05           05-Feb-2020  2020.0  Unprovoked          USA   \n",
            "1      1  2020.01.30.R  Reported 30-Jan-2020  2020.0    Provoked      BAHAMAS   \n",
            "2      2    2020.01.17           17-Jan-2020  2020.0  Unprovoked    AUSTRALIA   \n",
            "3      3    2020.01.16           16-Jan-2020  2020.0  Unprovoked  NEW ZEALAND   \n",
            "4      4    2020.01.13           13-Jan-2020  2020.0  Unprovoked          USA   \n",
            "\n",
            "              Area               Location                  Activity  \\\n",
            "0             Maui                    NaN  Stand-Up Paddle boarding   \n",
            "1           Exumas                    NaN                  Floating   \n",
            "2  New South Wales          Windang Beach                   Surfing   \n",
            "3        Southland            Oreti Beach                   Surfing   \n",
            "4   North Carolina  Rodanthe, Dare County                   Surfing   \n",
            "\n",
            "              Name  ... Unnamed: 246 Unnamed: 247 Unnamed: 248 Unnamed: 249  \\\n",
            "0              NaN  ...          NaN          NaN          NaN          NaN   \n",
            "1  Ana Bruna Avila  ...          NaN          NaN          NaN          NaN   \n",
            "2   Will Schroeter  ...          NaN          NaN          NaN          NaN   \n",
            "3      Jordan King  ...          NaN          NaN          NaN          NaN   \n",
            "4     Samuel Horne  ...          NaN          NaN          NaN          NaN   \n",
            "\n",
            "  Unnamed: 250 Unnamed: 251 Unnamed: 252 Unnamed: 253 Unnamed: 254  \\\n",
            "0          NaN          NaN          NaN          NaN          NaN   \n",
            "1          NaN          NaN          NaN          NaN          NaN   \n",
            "2          NaN          NaN          NaN          NaN          NaN   \n",
            "3          NaN          NaN          NaN          NaN          NaN   \n",
            "4          NaN          NaN          NaN          NaN          NaN   \n",
            "\n",
            "  Unnamed: 255  \n",
            "0          NaN  \n",
            "1          NaN  \n",
            "2          NaN  \n",
            "3          NaN  \n",
            "4          NaN  \n",
            "\n",
            "[5 rows x 257 columns]\n",
            "index             int64\n",
            "Case Number      object\n",
            "Date             object\n",
            "Year            float64\n",
            "Type             object\n",
            "                 ...   \n",
            "Unnamed: 251    float64\n",
            "Unnamed: 252    float64\n",
            "Unnamed: 253    float64\n",
            "Unnamed: 254    float64\n",
            "Unnamed: 255    float64\n",
            "Length: 257, dtype: object\n",
            "['Unprovoked' 'Provoked' 'Unknown']\n"
          ]
        }
      ]
    },
    {
      "cell_type": "code",
      "source": [
        "#2.3 Dummy variable: For the pretrial data covered in the lecture, clean the WhetherDefendantWasReleasedPretrial variable as well as you can, and, in particular, replace missing values with np.nan.\n",
        "import numpy as np\n",
        "import pandas as pd\n",
        "url = 'http://www.vcsc.virginia.gov/pretrialdataproject/October%202017%20Cohort_Virginia%20Pretrial%20Data%20Project_Deidentified%20FINAL%20Update_10272021.csv'\n",
        "tdf = pd.read_csv(url,  low_memory = False) #read in url data #My computer was struggling to read this in, so honestly I wanted to play around more with these variables but kept getting frustrated when it took forever to load.\n",
        "tdf['Released'] = tdf['WhetherDefendantWasReleasedPretrial'] #shorten name of variable\n",
        "var3 = 'Released'\n",
        "#print(tdf[var3].unique()) #examine possible values - 9 represents unknown or missing data\n",
        "print(tdf[var3].value_counts()) #how much unknown data is there?\n",
        "tdf[var3] = tdf[var3].replace(9, np.nan) #replace unknown values with nan\n",
        "tdf[var3+'_nan'] = tdf[var3].isnull()\n",
        "print('Number of Missings: \\n', sum(tdf[var3+'_nan']),'\\n') #number of nan values\n",
        "print(tdf[var3].unique()) #new values\n",
        "print(tdf[var3].dtypes) #confirm that all values are floats (including the nan)\n",
        "\n",
        "#2.4\n",
        "var4 = 'ImposedSentenceAllChargeInContactEvent'\n",
        "#print(tdf[var4].unique())\n",
        "var5 = 'SentenceTypeAllChargesAtConvictionInContactEvent'\n",
        "print(tdf[var5].unique())\n",
        "print(tdf[var5].value_counts()) #code 4 + code 9 = 9053 = empty ' ' which is unknown\n",
        "#print(tdf[var4].value_counts())\n",
        "#tdf[var4] = tdf[var4].replace(' ', np.nan)\n",
        "print(tdf[var4].value_counts())\n",
        "tdf['imposedcharge_NA'] = tdf[var4].isnull() #create dummy variable for if there is missing data\n",
        "#print(sum(tdf['imposedcharge_NA']),'\\n') #count number of missing data\n",
        "print(pd.crosstab(tdf[var4],tdf[var5]),'\\n') #cross tab between sentence type and imposed sentence charge\n",
        "tdf.loc[tdf[var5] == 9, var4] = np.nan # replace with nan if NA\n",
        "tdf.loc[tdf[var5] == 4, var4] = np.nan # replace with nan if other\n",
        "tdf.to_csv('new_pretrial_data.csv') #save cleaned data as new csv"
      ],
      "metadata": {
        "id": "F_9uNxd8qto0",
        "outputId": "4b62c0bc-77f8-4086-de49-c1fd62fe028b",
        "colab": {
          "base_uri": "https://localhost:8080/"
        }
      },
      "id": "F_9uNxd8qto0",
      "execution_count": null,
      "outputs": [
        {
          "output_type": "stream",
          "name": "stdout",
          "text": [
            "1    19154\n",
            "0     3801\n",
            "9       31\n",
            "Name: Released, dtype: int64\n",
            "Number of Missings: \n",
            " 31 \n",
            "\n",
            "[nan  0.  1.]\n",
            "float64\n",
            "[9 0 1 4 2]\n",
            "4    8779\n",
            "0    8720\n",
            "1    4299\n",
            "2     914\n",
            "9     274\n",
            "Name: SentenceTypeAllChargesAtConvictionInContactEvent, dtype: int64\n",
            "                    9053\n",
            "0                   4953\n",
            "12                  1404\n",
            ".985626283367556    1051\n",
            "6                    809\n",
            "                    ... \n",
            "49.9712525667351       1\n",
            "57.0349075975359       1\n",
            "79.9260780287474       1\n",
            "42.1642710472279       1\n",
            "1.6570841889117        1\n",
            "Name: ImposedSentenceAllChargeInContactEvent, Length: 484, dtype: int64\n",
            "0 \n",
            "\n",
            "SentenceTypeAllChargesAtConvictionInContactEvent  0   1  2     4    9\n",
            "ImposedSentenceAllChargeInContactEvent                               \n",
            "                                                  0   0  0  8779  274\n",
            ".0328542094455852                                 0   6  0     0    0\n",
            ".0657084188911704                                 3  21  0     0    0\n",
            ".0985626283367557                                 2   6  0     0    0\n",
            ".131416837782341                                  4  10  0     0    0\n",
            "...                                              ..  .. ..   ...  ...\n",
            "98                                                0   0  1     0    0\n",
            "98.95687885                                       0   0  1     0    0\n",
            "99                                                0   1  0     0    0\n",
            "99.3285420944559                                  0   1  0     0    0\n",
            "99.4928131416838                                  0   1  0     0    0\n",
            "\n",
            "[484 rows x 5 columns] \n",
            "\n"
          ]
        }
      ]
    },
    {
      "cell_type": "markdown",
      "id": "c11bcd96-2834-41a4-80fe-d354b4277fd9",
      "metadata": {
        "id": "c11bcd96-2834-41a4-80fe-d354b4277fd9"
      },
      "source": [
        "**Q3.** This question provides some practice doing exploratory data analysis and visualization.\n",
        "\n",
        "The \"relevant\" variables for this question are:\n",
        "  - `level` - Level of institution (4-year, 2-year)\n",
        "  - `aid_value` - The average amount of student aid going to undergraduate recipients\n",
        "  - `control` - Public, Private not-for-profit, Private for-profit\n",
        "  - `grad_100_value` - percentage of first-time, full-time, degree-seeking undergraduates who complete a degree or certificate program within 100 percent of expected time (bachelor's-seeking group at 4-year institutions)\n",
        "\n",
        "1. Load the `./data/college_completion.csv` data with Pandas.\n",
        "2. What are are the dimensions of the data? How many observations are there? What are the variables included? Use `.head()` to examine the first few rows of data.\n",
        "3. Cross tabulate `control` and `level`. Describe the patterns you see.\n",
        "4. For `grad_100_value`, create a histogram, kernel density plot, boxplot, and statistical description.\n",
        "5. For `grad_100_value`, create a grouped kernel density plot by `control` and by `level`. Describe what you see. Use `groupby` and `.describe` to make grouped calculations of statistical descriptions of `grad_100_value` by `level` and `control`. Which institutions appear to have the best graduation rates?\n",
        "6. Create a new variable, `df['levelXcontrol']=df['level']+', '+df['control']` that interacts level and control. Make a grouped kernel density plot. Which institutions appear to have the best graduation rates?\n",
        "7. Make a kernel density plot of `aid_value`. Notice that your graph is \"bi-modal\", having two little peaks that represent locally most common values. Now group your graph by `level` and `control`. What explains the bi-modal nature of the graph? Use `groupby` and `.describe` to make grouped calculations of statistical descriptions of `aid_value` by `level` and `control`.\n",
        "8. Make a scatterplot of `grad_100_value` by `aid_value`. Describe what you see. Now make the same plot, grouping by `level` and then `control`. Describe what you see. For which kinds of institutions does aid seem to increase graduation rates?"
      ]
    },
    {
      "cell_type": "markdown",
      "id": "98d34a3b-c21d-4dc9-a8d2-fb7686804ceb",
      "metadata": {
        "id": "98d34a3b-c21d-4dc9-a8d2-fb7686804ceb"
      },
      "source": [
        "**Q4.** This question uses the Airbnb data to practice making visualizations.\n",
        "\n",
        "  1. Load the `./data/airbnb_hw.csv` data with Pandas. You should have cleaned the `Price` variable in question 2, and you'll need it later for this question.\n",
        "  2. What are are the dimensions of the data? How many observations are there? What are the variables included? Use `.head()` to examine the first few rows of data.\n",
        "  3. Cross tabulate `Room Type` and `Property Type`. What patterns do you see in what kinds of rentals are available? For which kinds of properties are private rooms more common than renting the entire property?\n",
        "  4. For `Price`, make a histogram, kernel density, box plot, and a statistical description of the variable. Are the data badly scaled? Are there many outliers? Use `log` to transform price into a new variable, `price_log`, and take these steps again.\n",
        "  5. Make a scatterplot of `price_log` and `Beds`. Describe what you see. Use `.groupby()` to compute a desciption of `Price` conditional on/grouped by the number of beds. Describe any patterns you see in the average price and standard deviation in prices.\n",
        "  6. Make a scatterplot of `price_log` and `Beds`, but color the graph by `Room Type` and `Property Type`. What patterns do you see? Compute a description of `Price` conditional on `Room Type` and `Property Type`. Which Room Type and Property Type have the highest prices on average? Which have the highest standard deviation? Does the mean or median appear to be a more reliable estimate of central tendency, and explain why?\n",
        "  7. We've looked a bit at this `price_log` and `Beds` scatterplot. Use seaborn to make a `jointplot` with `kind=hex`. Where are the data actually distributed? How does it affect the way you think about the plots in 5 and 6?"
      ]
    },
    {
      "cell_type": "markdown",
      "id": "649494cd-cfd6-4f80-992a-9994fc19e1d5",
      "metadata": {
        "id": "649494cd-cfd6-4f80-992a-9994fc19e1d5"
      },
      "source": [
        "**Q5.** Many important datasets contain a race variable, typically limited to a handful of values often including Black, White, Asian, Latino, and Indigenous. This question looks at data gathering efforts on this variable by the U.S. Federal government.\n",
        "\n",
        "1. How did the most recent US Census gather data on race?\n",
        "2. Why do we gather these data? What role do these kinds of data play in politics and society? Why does data quality matter?\n",
        "3. Please provide a constructive criticism of how the Census was conducted: What was done well? What do you think was missing? How should future large scale surveys be adjusted to best reflect the diversity of the population? Could some of the Census' good practices be adopted more widely to gather richer and more useful data?\n",
        "4. How did the Census gather data on sex and gender? Please provide a similar constructive criticism of their practices.\n",
        "5. When it comes to cleaning data, what concerns do you have about protected characteristics like sex, gender, sexual identity, or race? What challenges can you imagine arising when there are missing values? What good or bad practices might people adopt, and why?\n",
        "6. Suppose someone invented an algorithm to impute values for protected characteristics like race, gender, sex, or sexuality. What kinds of concerns would you have?"
      ]
    },
    {
      "cell_type": "markdown",
      "source": [
        "5.1. The Census Bureau states that they gather data on race based on 'self-identification' where citizens are able to choose more than one race group. The US Office of Management and Budget (OMB) has 6 categories to choose from: White, Black or African American, American Indian or Alaska Native, Asian, Native Hawaiian or Other Pacific Islander, and Other.\n",
        "\n",
        "5.2. We gather race data for many reasons. This data provides information about disparities in healthcare, pay, job availability, housing, and more across races. The government can use it to determine where to allocate funds for specific groups that make up large portions of the population. Insurance companies use this data when offering healthcare plans, home insurance, car insurance, etc. In politics, race data draws attention to inequity. It also reminds us in society how diverse our country is and how minority populations are disproportionately worse off in society. Quality is especially important because these issues have large implications, and if the data is incorrect, then incorrect headlines and information will be spread, and unfair funding will be allocated. However, because race does not have a standard defintion and is self-identifiable, it can be hard to measure. This poses the question of how reliable this data actually is.\n",
        "\n",
        "5.3. The census is an important source of information that statisticians use to aid in policy-making and reform. It is pretty reliable data since each item is looked at individually. However, in this way it is extremely time-consuming, labor intensive, and expensive. In order to increase efficiency, the bureau may reuse data from other agencies. Yet this decreases its reliability, so there is a trade-off. A large critique is that the US census has undercounted groups that are historically undercounted (Blacks, Latinos, Other), while overcounting white and Asian populations (according to PES estimates). This could be because of the ambiguity in the choices where many people who are Hispanic/Latino indicate 'some other race' because they don't identify with the race categories listed on the form. This can negatively affect their funding so adding a specific option for 'Latino' on the form is a potential improvement for the census to gather more reliable data. This extends to other minority groups as well who are included in 'Other'.\n",
        "\n",
        "5.4. Sex and gender are becoming increasingly more contentious terms. The US Census states that they are distinct. Sex is a biological construct and gender is a social construct. The survey asks how respondents currently identify their sex, and only lists 'male' or 'female' as options. This question wording and the ambiguity of the two concepts makes this data somewhat unreliable as well when trying to determine the sex composition of the entire population. Additionally,there are no questions about gender on the census. Perhaps, asking more specific questions about what gender one was assigned at birth and what they currently identify as would give a better representation of the population.\n",
        "\n",
        "5.5. There are privacy issues when it comes to cleaning data variables such as sex, gender, sexual identity, race, etc. If there is missing data, it would be easy to assume one's race or gender based on patterns from other survey questions answered. This gives the potential for data to be skewed based on how the data analyst chooses to handle the missing data. Additionally, certain groups of people may be less likely to want to include their gender, transgender for instance, and then these populations will not be included in the data and potentially represented in funding. To combat these issues in privacy and bias, it is essential to be transparent in how one is cleaning the data. Also using multiple different techniques to present the data in different ways is another option. An extremely bad practice would be a lack in security of this sensitive data (it should be kept anonymous). Additionally, using potentially discriminatory trends with data in race, for example, to predict other trends is dangerous and should be avoided.\n",
        "\n",
        "5.6. If an algorithm was used to predict values for race, gender, and sexual orientation, I would be concerned at how accurate/reliable the data actually is. I also feel like there is a high probability that an algorithm could reinforce stereotypes for gender based on past data. With people being able to change how they identify their gender (or their race too), this data is somewhat unpredictable, and I would not trust an algorithm to collect it. Additionally, if people specifically chose not to include this data, it feels like a violation of privacy to impute and predict this data that they did not want to share in the first place. Overall, this raises a lot of ethical concerns."
      ],
      "metadata": {
        "id": "0K21hB-lC0HB"
      },
      "id": "0K21hB-lC0HB"
    },
    {
      "cell_type": "markdown",
      "id": "2f38f2fd-6381-481d-bba9-017f3d363426",
      "metadata": {
        "id": "2f38f2fd-6381-481d-bba9-017f3d363426"
      },
      "source": [
        "**Q6.** Open the `./data/CBO_data.pdf` file. This contains tax data for 2019, explaining where the money comes from that the U.S. Federal Government Spends in terms of taxation on individuals/families and payroll taxes (the amount that your employer pays in taxes on your wages).\n",
        "\n",
        "For some context, the Federal government ultimately spent about $4.4 trillion in 2019, which was 21% of GDP (the total monetary value of all goods and services produced within the United States). Individual Income Taxes is the amount individuals pay on their wages to the Federal government, Corporate Income Taxes is the taxes individuals pay on capital gains from investment when they sell stock or other financial instruments, Payroll Taxes is the tax your employer pays on your wages, Excises and Customs Duties are taxes on goods or services like sin taxes on cigarettes or alcohol, and Estate and Gift Taxes are taxes paid on transfers of wealth to other people.\n",
        "\n",
        "1. Get the Millions of Families and Billions of Dollars data into a .csv file and load it with Pandas.\n",
        "2. Create a bar plot of individual income taxes by income decile. Explain what the graph shows. Why are some values negative?\n",
        "3. Create a bar plot of Total Federal Taxes by income decile. Which deciles are paying net positive amounts, and which are paying net negative amounts?\n",
        "4. Create a stacked bar plot for which Total Federal Taxes is grouped by Individual Income Taxes, Payroll Taxes, Excises and Customs Duties, and Estate and Gift Taxes. How does the share of taxes paid vary across the adjusted income deciles? (Hint: Are these the kind of data you want to melt?)\n",
        "5. Below the Total line for Millions of Families and Billions of Dollars, there are data for the richest of the richest families. Plot this alongside the bars for the deciles above the Total line. Describe your results.\n",
        "6. Get the Percent Distribution data into a .csv file and load it with Pandas. Create a bar graph of Total Federal Taxes by income decile.\n",
        "7. A tax system is progressive if higher-income and wealthier individuals pay more than lower-income and less wealthy individuals, and it is regressive if the opposite is true. Is the U.S. tax system progressive in terms of amount paid? In terms of the percentage of the overall total?\n",
        "8. Do the rich pay enough in taxes? Defend your answer."
      ]
    }
  ],
  "metadata": {
    "kernelspec": {
      "display_name": "Python 3 (ipykernel)",
      "language": "python",
      "name": "python3"
    },
    "language_info": {
      "codemirror_mode": {
        "name": "ipython",
        "version": 3
      },
      "file_extension": ".py",
      "mimetype": "text/x-python",
      "name": "python",
      "nbconvert_exporter": "python",
      "pygments_lexer": "ipython3",
      "version": "3.10.4"
    },
    "colab": {
      "provenance": []
    }
  },
  "nbformat": 4,
  "nbformat_minor": 5
}